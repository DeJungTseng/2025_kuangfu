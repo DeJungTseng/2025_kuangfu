{
 "cells": [
  {
   "cell_type": "code",
   "execution_count": null,
   "id": "e20e21ff",
   "metadata": {},
   "outputs": [],
   "source": []
  },
  {
   "cell_type": "markdown",
   "id": "98245ba0",
   "metadata": {},
   "source": [
    "## 環境建立"
   ]
  },
  {
   "cell_type": "code",
   "execution_count": null,
   "id": "2cf7f671",
   "metadata": {},
   "outputs": [],
   "source": [
    "## requirements.txt\n",
    "requests\n",
    "pandas\n",
    "jupyter\n",
    "ipykernel\n"
   ]
  },
  {
   "cell_type": "code",
   "execution_count": null,
   "id": "7eaf3064",
   "metadata": {},
   "outputs": [],
   "source": [
    "# 把venv 命名為2025_kuangfu並註冊為jupyter notebook kernel\n",
    "\n",
    "python -m ipykernel install --user --name=2025_kuangfu --display-name \"Python (.venv 2025_kuangfu)\"\n",
    "\n",
    "# select jupyter notebook kernel\n"
   ]
  },
  {
   "cell_type": "code",
   "execution_count": 1,
   "id": "74afb0f2",
   "metadata": {},
   "outputs": [
    {
     "name": "stdout",
     "output_type": "stream",
     "text": [
      "/home/de-jung/projects/2025_kuangfu/.venv/bin/python\n",
      "Python 3.12.3\n"
     ]
    }
   ],
   "source": [
    "!which python\n",
    "!python --version"
   ]
  },
  {
   "cell_type": "markdown",
   "id": "e582dcdf",
   "metadata": {},
   "source": [
    "## 以requests 把8張地圖載成kml，並下載政府救災資料為csv"
   ]
  },
  {
   "cell_type": "code",
   "execution_count": 9,
   "id": "29f9c9f8",
   "metadata": {},
   "outputs": [
    {
     "name": "stdout",
     "output_type": "stream",
     "text": [
      "✅ 1_zenuie saved → outputs/kml/1_zenuie.kml (709 bytes)\n",
      "✅ 2_support_hualien saved → outputs/kml/2_support_hualien.kml (823 bytes)\n",
      "❌ 3_rescue_map failed: 406 Client Error: Not Acceptable for url: https://zkt.lax.mybluehost.me/rescue/rescuemap.html\n",
      "✅ 4_kiang saved → outputs/kml/4_kiang.kml (31275 bytes)\n",
      "✅ 5_requirement_map saved → outputs/kml/5_requirement_map.kml (127877 bytes)\n",
      "✅ 6_yu_map saved → outputs/kml/6_yu_map.kml (534557 bytes)\n",
      "✅ 7_sam_map saved → outputs/kml/7_sam_map.kml (177384 bytes)\n",
      "✅ 8_lin_map saved → outputs/kml/8_lin_map.kml (226028 bytes)\n",
      "✅ gov_sheet saved → outputs/kml/gov_sheet.csv (22376 bytes)\n"
     ]
    }
   ],
   "source": [
    "# test_fetch_maps.ipynb 內容\n",
    "import requests, os\n",
    "\n",
    "os.makedirs(\"outputs/kml\", exist_ok=True)\n",
    "\n",
    "sources = {\n",
    "    \"1_zenuie\": \"https://zenuie.github.io/help_hub/\",\n",
    "    \"2_support_hualien\": \"https://jstmonika.github.io/SupportHualien/\",\n",
    "    \"3_rescue_map\": \"https://zkt.lax.mybluehost.me/rescue/rescuemap.html\",\n",
    "    \"4_kiang\": \"https://tainan.olc.tw/p/guangfu250923/\",\n",
    "    \"5_requirement_map\": \"https://www.google.com/maps/d/u/0/viewer?mid=1z3Lh3pKucPyjFiq-OVOQeAAJ_Y3viQk&ll=25.04114306979395%2C121.50900250000002&z=13\",\n",
    "    \"6_yu_map\": \"https://www.google.com/maps/d/u/0/embed?mid=1qOHK91tv68NacIN1GVTDYKn10ojb-t8&ll=23.6409918967309%2C121.43978255&z=11\",\n",
    "    \"7_sam_map\": \"https://www.google.com/maps/d/u/1/viewer?hl=zh-TW&mid=1rH9sGuSh-Oqzcrtj7wgaenDWDOfHH-c&ll=23.79589192204332%2C121.4612344595703&z=11\",\n",
    "    \"8_lin_map\": \"https://www.google.com/maps/d/u/0/viewer?hl=zh-TW&ll=23.669393075256767%2C121.4317209625592&z=16&mid=1l-TUsEbH5ahJBbXxCnKL2oCFB39hYw8\",\n",
    "    \"gov_sheet\": \"https://docs.google.com/spreadsheets/d/1s-6z7kqsRLUEsmetdquoBDbZugwYmHiRKYeWCdc-gP4/export?format=csv\",\n",
    "}\n",
    "\n",
    "def fetch_file(name, url):\n",
    "    try:\n",
    "        r = requests.get(url, timeout=30)\n",
    "        r.raise_for_status()\n",
    "        ext = \".csv\" if \"format=csv\" in url else \".kml\"\n",
    "        path = f\"outputs/kml/{name}{ext}\"\n",
    "        with open(path, \"wb\") as f:\n",
    "            f.write(r.content)\n",
    "        print(f\"✅ {name} saved → {path} ({len(r.content)} bytes)\")\n",
    "    except Exception as e:\n",
    "        print(f\"❌ {name} failed: {e}\")\n",
    "\n",
    "for n, u in sources.items():\n",
    "    fetch_file(n, u)\n"
   ]
  },
  {
   "cell_type": "code",
   "execution_count": 11,
   "id": "480d7fa2",
   "metadata": {},
   "outputs": [
    {
     "name": "stdout",
     "output_type": "stream",
     "text": [
      "⚠️ 沒找到 KML/GeoJSON 連結，已保存 HTML 供檢查: outputs/kml/3_rescue_map_page.html\n"
     ]
    }
   ],
   "source": [
    "## FOR 3_rescue_map\n",
    "import requests, re, os\n",
    "\n",
    "url = \"https://zkt.lax.mybluehost.me/rescue/rescuemap.html\"\n",
    "headers = {\n",
    "    \"User-Agent\": \"Mozilla/5.0 (Windows NT 10.0; Win64; x64) AppleWebKit/537.36 (KHTML, like Gecko) Chrome/124.0 Safari/537.36\"\n",
    "}\n",
    "\n",
    "# 下載 HTML\n",
    "resp = requests.get(url, headers=headers, timeout=30)\n",
    "resp.raise_for_status()\n",
    "html = resp.text\n",
    "\n",
    "# 建立資料夾\n",
    "os.makedirs(\"outputs/kml\", exist_ok=True)\n",
    "\n",
    "# 嘗試找是否有 .kml / .geojson 的 URL\n",
    "matches = re.findall(r'https?://[^\\s\"\\']+\\.(?:kml|geojson)', html)\n",
    "\n",
    "if matches:\n",
    "    for i, link in enumerate(matches):\n",
    "        print(f\"找到地圖資料來源 {i+1}: {link}\")\n",
    "        r2 = requests.get(link, headers=headers, timeout=30)\n",
    "        r2.raise_for_status()\n",
    "        fname = f\"outputs/kml/3_rescue_map_{i+1}.kml\" if link.endswith(\".kml\") else f\"outputs/kml/3_rescue_map_{i+1}.geojson\"\n",
    "        with open(fname, \"wb\") as f:\n",
    "            f.write(r2.content)\n",
    "        print(f\"✅ 已儲存: {fname}\")\n",
    "else:\n",
    "    # 如果沒有找到 .kml / .geojson，就先把 HTML 存起來手動檢查\n",
    "    with open(\"outputs/kml/3_rescue_map_page.html\", \"w\", encoding=\"utf-8\") as f:\n",
    "        f.write(html)\n",
    "    print(\"⚠️ 沒找到 KML/GeoJSON 連結，已保存 HTML 供檢查: outputs/kml/3_rescue_map_page.html\")\n"
   ]
  },
  {
   "cell_type": "code",
   "execution_count": 12,
   "id": "14a39953",
   "metadata": {},
   "outputs": [
    {
     "name": "stdout",
     "output_type": "stream",
     "text": [
      "✅ 已下載 JSON, 共 10 筆\n"
     ]
    }
   ],
   "source": [
    "# 3_rescue_map_page.html 內容\n",
    "import requests, json, os\n",
    "\n",
    "API_URL = \"https://script.google.com/macros/s/AKfycbxjjQOQXrMR64rQ4YNMf0NLLEC6p8H21XiRjlYMijvfR9SPvT1x4tlCe2S4cjfX9m3xgg/exec\"\n",
    "\n",
    "resp = requests.get(API_URL, timeout=30)\n",
    "resp.raise_for_status()\n",
    "data = resp.json()\n",
    "\n",
    "os.makedirs(\"outputs/kml\", exist_ok=True)\n",
    "\n",
    "# 存成 JSON 以便檢查\n",
    "with open(\"outputs/kml/3_rescue_map.json\", \"w\", encoding=\"utf-8\") as f:\n",
    "    json.dump(data, f, indent=2, ensure_ascii=False)\n",
    "\n",
    "print(f\"✅ 已下載 JSON, 共 {len(data)} 筆\")\n"
   ]
  },
  {
   "cell_type": "markdown",
   "id": "0e2c55dd",
   "metadata": {},
   "source": [
    "## kml to json"
   ]
  },
  {
   "cell_type": "code",
   "execution_count": 13,
   "id": "67631602",
   "metadata": {},
   "outputs": [
    {
     "name": "stdout",
     "output_type": "stream",
     "text": [
      "❌ Failed to parse outputs/kml/7_sam_map.kml: not well-formed (invalid token): line 1, column 31\n",
      "⚠️ No placemarks found in 7_sam_map.kml\n",
      "❌ Failed to parse outputs/kml/8_lin_map.kml: not well-formed (invalid token): line 1, column 31\n",
      "⚠️ No placemarks found in 8_lin_map.kml\n",
      "❌ Failed to parse outputs/kml/5_requirement_map.kml: not well-formed (invalid token): line 1, column 31\n",
      "⚠️ No placemarks found in 5_requirement_map.kml\n",
      "❌ Failed to parse outputs/kml/6_yu_map.kml: not well-formed (invalid token): line 1, column 31\n",
      "⚠️ No placemarks found in 6_yu_map.kml\n",
      "❌ Failed to parse outputs/kml/2_support_hualien.kml: mismatched tag: line 11, column 2\n",
      "⚠️ No placemarks found in 2_support_hualien.kml\n",
      "❌ Failed to parse outputs/kml/4_kiang.kml: not well-formed (invalid token): line 567, column 18\n",
      "⚠️ No placemarks found in 4_kiang.kml\n",
      "❌ Failed to parse outputs/kml/1_zenuie.kml: syntax error: line 1, column 0\n",
      "⚠️ No placemarks found in 1_zenuie.kml\n"
     ]
    }
   ],
   "source": [
    "import xml.etree.ElementTree as ET\n",
    "import json\n",
    "import unicodedata\n",
    "import re\n",
    "import os\n",
    "\n",
    "def kml_color_to_hex(kml_color):\n",
    "    \"\"\"Converts a KML color string (aabbggrr) to a standard web hex color (#RRGGBB).\"\"\"\n",
    "    if not kml_color or len(kml_color) != 8:\n",
    "        return None\n",
    "    red = kml_color[6:8]\n",
    "    green = kml_color[4:6]\n",
    "    blue = kml_color[2:4]\n",
    "    return f'#{red}{green}{blue}'.upper()\n",
    "\n",
    "def parse_kml_styles(root, ns):\n",
    "    \"\"\"Parses <Style> and <StyleMap> elements and returns a lookup dictionary mapping style URLs to icon and color properties.\"\"\"\n",
    "    style_map = {}\n",
    "\n",
    "    # Parse <Style>\n",
    "    for style in root.findall(f'.//{ns}Style'):\n",
    "        style_id = style.get('id')\n",
    "        if not style_id:\n",
    "            continue\n",
    "        details = {'icon': None, 'color': None}\n",
    "\n",
    "        icon_href = style.find(f'{ns}IconStyle/{ns}Icon/{ns}href')\n",
    "        if icon_href is not None and icon_href.text:\n",
    "            details['icon'] = icon_href.text.strip()\n",
    "\n",
    "        color_element = style.find(f'{ns}IconStyle/{ns}color')\n",
    "        if color_element is None:\n",
    "            color_element = style.find(f'{ns}LineStyle/{ns}color') or style.find(f'{ns}PolyStyle/{ns}color')\n",
    "\n",
    "        if color_element is not None and color_element.text:\n",
    "            details['color'] = kml_color_to_hex(color_element.text.strip())\n",
    "\n",
    "        style_map[f'#{style_id}'] = details\n",
    "\n",
    "    # Parse <StyleMap>\n",
    "    for style_map_element in root.findall(f'.//{ns}StyleMap'):\n",
    "        map_id = style_map_element.get('id')\n",
    "        if not map_id:\n",
    "            continue\n",
    "        normal_pair = style_map_element.find(f'{ns}Pair[{ns}key=\"normal\"]/{ns}styleUrl')\n",
    "        if normal_pair is not None and normal_pair.text:\n",
    "            style_map[f'#{map_id}'] = style_map.get(normal_pair.text.strip(), {'icon': None, 'color': None})\n",
    "\n",
    "    return style_map\n",
    "\n",
    "def extract_placemark_data(file_path):\n",
    "    \"\"\"Parses a KML file and extracts placemark info into JSON-like structure.\"\"\"\n",
    "    try:\n",
    "        tree = ET.parse(file_path)\n",
    "        root = tree.getroot()\n",
    "    except ET.ParseError:\n",
    "        with open(file_path, 'r', encoding='utf-8') as f:\n",
    "            xml_content = f.read()\n",
    "        xml_content = \"\".join(ch for ch in xml_content if unicodedata.category(ch)[0] != 'C' or ch in ('\\t', '\\n', '\\r'))\n",
    "        try:\n",
    "            root = ET.fromstring(xml_content)\n",
    "        except ET.ParseError as e:\n",
    "            print(f\"❌ Failed to parse {file_path}: {e}\")\n",
    "            return []\n",
    "    except FileNotFoundError as e:\n",
    "        print(f\"❌ File not found: {file_path}\")\n",
    "        return []\n",
    "\n",
    "    placemarks_data = []\n",
    "    ns = '{http://www.opengis.net/kml/2.2}'\n",
    "    style_lookup = parse_kml_styles(root, ns)\n",
    "\n",
    "    for placemark in root.findall(f'.//{ns}Placemark'):\n",
    "        name_element = placemark.find(f'{ns}name')\n",
    "        name = name_element.text.strip() if name_element is not None and name_element.text else 'No Name'\n",
    "\n",
    "        description_element = placemark.find(f'{ns}description')\n",
    "        description = description_element.text.strip() if description_element is not None and description_element.text else 'No Description'\n",
    "\n",
    "        style_url_element = placemark.find(f'{ns}styleUrl')\n",
    "        style_url = style_url_element.text.strip() if style_url_element is not None and style_url_element.text else None\n",
    "        style_details = style_lookup.get(style_url, {'icon': None, 'color': None})\n",
    "\n",
    "        # Geometry\n",
    "        point = placemark.find(f'.//{ns}Point')\n",
    "        linestring = placemark.find(f'.//{ns}LineString')\n",
    "        polygon = placemark.find(f'.//{ns}Polygon')\n",
    "\n",
    "        geom_type = 'Unknown'\n",
    "        coordinates_text = None\n",
    "        if point is not None:\n",
    "            geom_type = 'Point'\n",
    "            coordinates_element = point.find(f'.//{ns}coordinates')\n",
    "            if coordinates_element is not None:\n",
    "                coordinates_text = coordinates_element.text\n",
    "        elif linestring is not None:\n",
    "            geom_type = 'LineString'\n",
    "            coordinates_element = linestring.find(f'.//{ns}coordinates')\n",
    "            if coordinates_element is not None:\n",
    "                coordinates_text = coordinates_element.text\n",
    "        elif polygon is not None:\n",
    "            geom_type = 'Polygon'\n",
    "            coordinates_element = polygon.find(f'.//{ns}LinearRing/{ns}coordinates')\n",
    "            if coordinates_element is not None:\n",
    "                coordinates_text = coordinates_element.text\n",
    "\n",
    "        coords = []\n",
    "        if coordinates_text:\n",
    "            coord_tuples = re.findall(r'(-?\\d+\\.\\d+),(-?\\d+\\.\\d+)(?:,-?\\d+\\.?\\d*)?', coordinates_text.strip())\n",
    "            for lon_str, lat_str in coord_tuples:\n",
    "                try:\n",
    "                    lon = float(lon_str)\n",
    "                    lat = float(lat_str)\n",
    "                    coords.append([lon, lat])\n",
    "                except ValueError:\n",
    "                    continue\n",
    "\n",
    "        if coords:  # ✅ Only keep placemarks with coordinates\n",
    "            placemarks_data.append({\n",
    "                'name': name,\n",
    "                'description': description,\n",
    "                'type': geom_type,\n",
    "                'coordinates': coords,\n",
    "                'color': style_details['color'],\n",
    "                'icon': style_details['icon']\n",
    "            })\n",
    "\n",
    "    return placemarks_data\n",
    "\n",
    "# === 批次處理 outputs/kml/ 資料夾中的 KML 檔案 ===\n",
    "input_folder = \"outputs/kml\"\n",
    "output_folder = \"outputs/kml\"\n",
    "\n",
    "kml_files = [f for f in os.listdir(input_folder) if f.endswith(\".kml\")]\n",
    "\n",
    "for kml_file in kml_files:\n",
    "    input_path = os.path.join(input_folder, kml_file)\n",
    "    output_path = os.path.join(output_folder, kml_file.replace(\".kml\", \".json\"))\n",
    "\n",
    "    data = extract_placemark_data(input_path)\n",
    "\n",
    "    if data:\n",
    "        with open(output_path, \"w\", encoding=\"utf-8\") as f:\n",
    "            json.dump(data, f, indent=2, ensure_ascii=False)\n",
    "        print(f\"✅ Converted {kml_file} → {output_path} ({len(data)} placemarks)\")\n",
    "    else:\n",
    "        print(f\"⚠️ No placemarks found in {kml_file}\")\n"
   ]
  }
 ],
 "metadata": {
  "kernelspec": {
   "display_name": "Python (.venv 2025_kuangfu)",
   "language": "python",
   "name": "disaster_maps"
  },
  "language_info": {
   "codemirror_mode": {
    "name": "ipython",
    "version": 3
   },
   "file_extension": ".py",
   "mimetype": "text/x-python",
   "name": "python",
   "nbconvert_exporter": "python",
   "pygments_lexer": "ipython3",
   "version": "3.12.3"
  }
 },
 "nbformat": 4,
 "nbformat_minor": 5
}
